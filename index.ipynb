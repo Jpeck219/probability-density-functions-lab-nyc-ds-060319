{
 "cells": [
  {
   "cell_type": "markdown",
   "metadata": {},
   "source": [
    "# Probability Density Functions Lab\n",
    "\n",
    "## Problem Statement\n",
    "\n",
    "In this lab, we'll learn how to use Probability Density Functions (PDFs) to explore our data set.  We'll also dive deep into calculating the mean, median, mode, and trimmed mean, and explore how each are influenced by outliers.  \n",
    "\n",
    "### Objectives\n",
    "* Compare and constrast the following Measures of Center: \n",
    "    * Mean\n",
    "    * Median\n",
    "    * Mode\n",
    "    * Trimmed Mean\n",
    "* Demonstrate the effect outlier values has on each\n",
    "* Calculate each Measure of Center manually \n",
    "* Use numpy to calculate each Measure of Center\n",
    "\n",
    "Run the cell below to import everything we'll need for this lab. "
   ]
  },
  {
   "cell_type": "code",
   "execution_count": 1,
   "metadata": {},
   "outputs": [],
   "source": [
    "import numpy as np\n",
    "import matplotlib.pyplot as plt\n",
    "import seaborn as sns\n",
    "%matplotlib inline\n",
    "# Set a seed for reproducibility--don't change it, or you'll break things!\n",
    "np.random.seed(0)"
   ]
  },
  {
   "cell_type": "markdown",
   "metadata": {},
   "source": [
    "We'll start by creating a synthetic dataset to work with.  This dataset will be normally distributed.   \n",
    "\n",
    "In the cell below:\n",
    "\n",
    "**1.** Use numpy's [`random.normal()`](https://docs.scipy.org/doc/numpy/reference/generated/numpy.random.normal.html) function to create a data set of `size=100`.    \n",
    "<br>\n",
    "**2.** Then, append the value `1.2` to our `data` array 5 times (we'll need this so that we can calculate a _mode_ later on).  Use the `np.append()` method and pass in the `data` variable, as well as an array containing `[1.2, 1.2, 1.2, 1.2, 1.2]`.  If you have trouble, take a look at the [documentation](https://docs.scipy.org/doc/numpy-1.14.0/reference/generated/numpy.append.html) for that method.  \n",
    "<br>\n",
    "**3.** Finally, use Seaborn's `sns.distplot()` method to visualize the probability density of this dataset.  "
   ]
  },
  {
   "cell_type": "code",
   "execution_count": 10,
   "metadata": {},
   "outputs": [
    {
     "name": "stderr",
     "output_type": "stream",
     "text": [
      "/opt/conda/envs/learn-env/lib/python3.6/site-packages/scipy/stats/stats.py:1713: FutureWarning: Using a non-tuple sequence for multidimensional indexing is deprecated; use `arr[tuple(seq)]` instead of `arr[seq]`. In the future this will be interpreted as an array index, `arr[np.array(seq)]`, which will result either in an error or a different result.\n",
      "  return np.add.reduce(sorted[indexer] * weights, axis=axis) / sumval\n"
     ]
    },
    {
     "data": {
      "text/plain": [
       "<matplotlib.axes._subplots.AxesSubplot at 0x7efdaada1940>"
      ]
     },
     "execution_count": 10,
     "metadata": {},
     "output_type": "execute_result"
    },
    {
     "data": {
      "image/png": "[encoded data removed]",
      "text/plain": [
       "<Figure size 432x288 with 1 Axes>"
      ]
     },
     "metadata": {
      "needs_background": "light"
     },
     "output_type": "display_data"
    }
   ],
   "source": [
    "dataset = np.random.normal(size = 100)\n",
    "dataset = np.append(dataset, [1.2, 1.2, 1.2, 1.2, 1.2])\n",
    "sns.distplot(dataset, bins = 2)"
   ]
  },
  {
   "cell_type": "markdown",
   "metadata": {},
   "source": [
    "Great.  We'll want to plot it to make it visual, but before we can do that, we'll need to calculate some basic metrics such as the sample's **_mean_** and **_standard deviation_**. \n",
    "\n",
    "In the cell below, write a function that takes in `data` and returns the mean.\n",
    "\n",
    "Recall that the formula for the mean is: \n",
    "\n",
    "<center><img src='mean_formula.gif'></center>\n",
    "\n",
    "where:\n",
    "\n",
    "\n",
    "$\\large \\bar{x} = Sample\\ Mean$\n",
    "\n",
    "$\\large N = Length\\ of\\ Dataset$\n",
    "\n",
    "In the cell below, write a function that takes in an array of numbers and returns the mean of the data.  \n",
    "\n",
    "Then, test that it works by using it on the `data` variable that we created above!"
   ]
  },
  {
   "cell_type": "code",
   "execution_count": null,
   "metadata": {},
   "outputs": [],
   "source": [
    "def get_mean(data):\n",
    "    pass\n",
    "\n",
    "test1 = [5, 10, 15]\n",
    "test2 = [1, 2, 3]\n",
    "print(get_mean(test1)) # 10.0\n",
    "print(get_mean(test2)) # 2.0\n",
    "print(get_mean(data)) # 0.11410287193760468"
   ]
  },
  {
   "cell_type": "markdown",
   "metadata": {},
   "source": [
    "Great! Now that we have the mean, we just need to calculate the standard deviation. Our next lab is all about standard deviation and variance, so we'll leave the manual calculations for that lab and just use numpy for this one. \n",
    "\n",
    "Use the correct numpy function to calculate the standard deviation of `data` in the cell below. "
   ]
  },
  {
   "cell_type": "code",
   "execution_count": null,
   "metadata": {},
   "outputs": [],
   "source": []
  },
  {
   "cell_type": "markdown",
   "metadata": {},
   "source": [
    "**Expected Output:** Standard Deviation: 1.01312\n",
    "\n",
    "We'll go deeper into Standard Deviation and Variance in a later lab.  For now, it's just good to see what it is--we should never consider a mean value of a sample without also taking a look at the standard deviation!"
   ]
  },
  {
   "cell_type": "markdown",
   "metadata": {},
   "source": [
    "### Calculating the Median\n",
    "\n",
    "The median is the value directly in the middle of the a dataset--in statistical terms, this is the median quartile. If the dataset was sorted from lowest value to highest value, the median is the value that would be larger than the first 50% of the data, and smaller than the second 50%.  \n",
    "\n",
    "If the dataset has an odd number of values, then the median is the middle number.   \n",
    "\n",
    "If the datasaet has an even number of values, then we take the mean of the middle two numbers. \n",
    "\n",
    "In the cell below, write a function that takes in an array of numbers and returns the median value for that dataset.  "
   ]
  },
  {
   "cell_type": "code",
   "execution_count": null,
   "metadata": {},
   "outputs": [],
   "source": [
    "def get_median(data):\n",
    "    pass\n",
    "\n",
    "test1 = [5, 4, 1, 3, 2]\n",
    "test2 = [4, 2, 3, 1]\n",
    "\n",
    "print(get_median(test1)) # 3\n",
    "print(get_median(test2)) # 2.5\n",
    "print(get_median(data)) # 0.12898291075741067"
   ]
  },
  {
   "cell_type": "markdown",
   "metadata": {},
   "source": [
    "### Calculating the Mode\n",
    "\n",
    "The mode is the value that shows up the most in a dataset.  A dataset can have 0 or more modes.  If no value shows up more than once, the dataset is considered to have no mode value.  If two numbers show up the same number of times, that dataset is considered **_bimodal_**.  Datasets where multiple values all show up the same number of times are considered **_multimodal_**.\n",
    "\n",
    "In the cell below, write a function that takes in an array of numbers and returns another array containing the mode value(s).  \n",
    "\n",
    "**_Hint_**: Building a histogram (also called a frequency distribution) with a dictionary is probably the easiest way to approach this problem!"
   ]
  },
  {
   "cell_type": "code",
   "execution_count": null,
   "metadata": {},
   "outputs": [],
   "source": [
    "def get_mode(data):\n",
    "    pass\n",
    "\n",
    "test1 = [1, 2, 3, 5, 5, 4]\n",
    "test2 = [1, 1, 1, 2, 3, 4, 5, 5, 5]\n",
    "print(get_mode(test1)) # [5]\n",
    "print(get_mode(test2)) # [1, 5]\n",
    "print(get_mode(data)) # [1.2]"
   ]
  },
  {
   "cell_type": "markdown",
   "metadata": {},
   "source": [
    "### How Outliers Affect Mean, Median, and Mode\n",
    "\n",
    "The dataset that we created for this lab is fairly normally distributed, and doesn't contain any outliers. However, in the real world, we rarely have the luxury of working with outlier-free datasets.  In the cell below, we're going to write a function that helps us measure how much the mean, median, and mode are affected by outlier values.  \n",
    "\n",
    "Write a function that takes in an array of numbers and an outlier value.  This function should calculate the mean, median, and mode values for the dataset, add the outlier to the dataset, and then recalculate the mean, median and mode values.  This function should return the amount the mean, median, and mode values were skewed by the outlier value (in that order).\n",
    "\n",
    "**_Bonus_**: In the function, after adding in our outlier value, visualize the new distribution of the data as we did up above so we can see how the outlier has skewed the distribution.  "
   ]
  },
  {
   "cell_type": "code",
   "execution_count": null,
   "metadata": {},
   "outputs": [],
   "source": [
    "def check_outlier_effect(data, outlier):\n",
    "    pass\n",
    "    \n",
    "\n",
    "mean_effect, median_effect, mode_effect = check_outlier_effect(data, 20)\n",
    "print(\"Effect outlier had on mean: {}\".format(mean_effect))\n",
    "print(\"Effect outlier had on median: {}\".format(median_effect))\n",
    "print(\"Effect outlier had on mode: {}\".format(mode_effect))"
   ]
  },
  {
   "cell_type": "markdown",
   "metadata": {},
   "source": [
    "**_Expected Output:_**\n",
    "\n",
    "```Effect outlier had on mean: 0.1876028030949283\n",
    "Effect outlier had on median: 0.007530330201733659\n",
    "Effect outlier had on mode: 0.0```\n",
    "\n",
    "As we can see from the output:\n",
    "\n",
    "* The mean is heavily influenced by outliers.\n",
    "* The median is only slightly influenced by outliers.\n",
    "* The mode is not influenced by outliers at all!\n",
    "\n",
    "### Dealing with Outliers: Calculating the Trimmed Mean\n",
    "\n",
    "One way to make use of the mean while protecting from outliers it to calculate the **_Trimmed Mean_**.  The trimmed mean avoids being influenced by outlier values by cutting off pre-set amounts from the low and high ends of the data distribution.  For instance, if we wanted to calculate the Trimmed mean of 5%, we would drop the 5% lowest values and 5% highest values, and then calculate the mean of the remaining data.  This is a great way to protect ourselves from outlier values when we need to make use of the mean on datasets that contain many outliers.  Note that the `trim` value is a parameter we can choose--if our dataset is particularly noisy, we may choose to trim 10% or 15%.  \n",
    "\n",
    "In the cell below, write a function that takes in an array of data and calculates the trimmed mean, with a default value of 5%. "
   ]
  },
  {
   "cell_type": "code",
   "execution_count": null,
   "metadata": {},
   "outputs": [],
   "source": [
    "def get_trimmed_mean(data, trim=.05):\n",
    "    pass\n",
    "\n",
    "trimmed_mean_test = [-10, 1, 1, 2, 3, 4, 5, 5, 6, 20] # trim = .10\n",
    "print(get_trimmed_mean(trimmed_mean_test, .10)) # 3.375\n",
    "print(get_trimmed_mean(data)) # -0.013374707098353195"
   ]
  },
  {
   "cell_type": "markdown",
   "metadata": {},
   "source": [
    "### Conclusion\n",
    "In this lab, we learned:\n",
    "* How to calculate the mean, and how it is used\n",
    "* How to calculate the median, and how it is used\n",
    "* How to calculate the mode, and how it is used\n",
    "* How to calculate the trimmed mean, and why it is more resistant to outliers  "
   ]
  }
 ],
 "metadata": {
  "kernelspec": {
   "display_name": "Python 3",
   "language": "python",
   "name": "python3"
  },
  "language_info": {
   "codemirror_mode": {
    "name": "ipython",
    "version": 3
   },
   "file_extension": ".py",
   "mimetype": "text/x-python",
   "name": "python",
   "nbconvert_exporter": "python",
   "pygments_lexer": "ipython3",
   "version": "3.6.6"
  }
 },
 "nbformat": 4,
 "nbformat_minor": 2
}
